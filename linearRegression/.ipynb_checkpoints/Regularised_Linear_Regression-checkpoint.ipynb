{
 "cells": [
  {
   "cell_type": "code",
   "execution_count": 56,
   "id": "cd64b77d",
   "metadata": {},
   "outputs": [],
   "source": [
    "import numpy as np\n",
    "import pandas as pd\n",
    "import matplotlib.pyplot as plt\n",
    "%matplotlib inline"
   ]
  },
  {
   "cell_type": "code",
   "execution_count": 57,
   "id": "41ba8e63",
   "metadata": {},
   "outputs": [],
   "source": [
    "x = np.array([[1, 2, 3, 4, 5, 6, 7, 8, 9, 10]],dtype = float).T\n",
    "y = np.array([45000, 50000, 60000, 80000, 110000, 150000, 200000, 300000, 500000, 1000000]).reshape(-1,1)"
   ]
  },
  {
   "cell_type": "code",
   "execution_count": 58,
   "id": "6e720dfd",
   "metadata": {},
   "outputs": [
    {
     "data": {
      "text/plain": [
       "<matplotlib.collections.PathCollection at 0x7f83441edb80>"
      ]
     },
     "execution_count": 58,
     "metadata": {},
     "output_type": "execute_result"
    },
    {
     "data": {
      "image/png": "[encoded data removed]",
      "text/plain": [
       "<Figure size 432x288 with 1 Axes>"
      ]
     },
     "metadata": {
      "needs_background": "light"
     },
     "output_type": "display_data"
    }
   ],
   "source": [
    "plt.scatter(x,y)"
   ]
  },
  {
   "cell_type": "code",
   "execution_count": 59,
   "id": "69530561",
   "metadata": {},
   "outputs": [],
   "source": [
    "h = lambda x,theta: x@theta\n",
    "\n",
    "cost_function = lambda x,y,theta: ((h(x,theta)-y).T@(h(x,theta)-y))/(2*x.shape[0])"
   ]
  },
  {
   "cell_type": "code",
   "execution_count": 60,
   "id": "65d18c79",
   "metadata": {},
   "outputs": [],
   "source": [
    "def gradient_descent(x,y,theta,epochs,lr = 0.1):\n",
    "    m = y.shape[0]\n",
    "    \n",
    "    J = []\n",
    "    \n",
    "    for epoch in range(epochs):\n",
    "        h_x = h(x,theta)\n",
    "        step = (1/m)*(x.T@(h_x-y))+ (1/m)*(2*(0.1)*(theta)) \n",
    "        \n",
    "        # for rehularization i need to subtract theta\n",
    "        #here regularization term = (0.001) * theta where 0.1 = (1/lambda)\n",
    "        theta = theta - (lr*step)\n",
    "        #Without regularization \n",
    "        #theta = theta - (lr*step)\n",
    "        J.append(cost_function(x,y,theta))\n",
    "    return J,theta"
   ]
  },
  {
   "cell_type": "markdown",
   "id": "0e37eaf1",
   "metadata": {},
   "source": [
    "## Regularization : \n",
    "### L1 = hypothesis + (1/lambda) * (theta) if theta > 0 else hypothesis - (1/lambda) * (theta)\n",
    "### L2 = 2*(1/lambda)* (theta)"
   ]
  },
  {
   "cell_type": "code",
   "execution_count": 61,
   "id": "2cd7dba5",
   "metadata": {},
   "outputs": [],
   "source": [
    "def normalize(x):\n",
    "    for i in range(x.shape[1]):\n",
    "        x[:,i] = (x[:,i] - np.mean(x[:,i]))/np.std(x[:,i])\n",
    "    return x"
   ]
  },
  {
   "cell_type": "markdown",
   "id": "ba1411d5",
   "metadata": {},
   "source": [
    "### Adding More Quadratic Features"
   ]
  },
  {
   "cell_type": "code",
   "execution_count": 62,
   "id": "f7d1e4c7",
   "metadata": {},
   "outputs": [],
   "source": [
    "x3 = x**4\n",
    "x = np.concatenate((x,x3),axis = 1)\n",
    "x = normalize(x)\n",
    "x = np.concatenate((np.ones((x.shape[0],1)),x),axis=1)\n",
    "theta = np.zeros((x.shape[1],1))"
   ]
  },
  {
   "cell_type": "code",
   "execution_count": 63,
   "id": "17b979f4",
   "metadata": {},
   "outputs": [
    {
     "data": {
      "text/plain": [
       "array([[ 1.        , -1.5666989 , -0.78691732],\n",
       "       [ 1.        , -1.21854359, -0.78225604],\n",
       "       [ 1.        , -0.87038828, -0.76205716],\n",
       "       [ 1.        , -0.52223297, -0.70767556],\n",
       "       [ 1.        , -0.17407766, -0.59300807],\n",
       "       [ 1.        ,  0.17407766, -0.38449347],\n",
       "       [ 1.        ,  0.52223297, -0.04111249],\n",
       "       [ 1.        ,  0.87038828,  0.48561217],\n",
       "       [ 1.        ,  1.21854359,  1.25161589],\n",
       "       [ 1.        ,  1.5666989 ,  2.32029206]])"
      ]
     },
     "execution_count": 63,
     "metadata": {},
     "output_type": "execute_result"
    }
   ],
   "source": [
    "x"
   ]
  },
  {
   "cell_type": "code",
   "execution_count": 64,
   "id": "6d1cc143",
   "metadata": {},
   "outputs": [],
   "source": [
    "loss,theta = gradient_descent(x,y,theta,50,0.1)"
   ]
  },
  {
   "cell_type": "code",
   "execution_count": 65,
   "id": "d840b756",
   "metadata": {
    "scrolled": true
   },
   "outputs": [
    {
     "data": {
      "text/plain": [
       "[<matplotlib.lines.Line2D at 0x7f83441a2bb0>]"
      ]
     },
     "execution_count": 65,
     "metadata": {},
     "output_type": "execute_result"
    },
    {
     "data": {
      "image/png": "[encoded data removed]",
      "text/plain": [
       "<Figure size 432x288 with 1 Axes>"
      ]
     },
     "metadata": {
      "needs_background": "light"
     },
     "output_type": "display_data"
    }
   ],
   "source": [
    "plt.plot(np.array(loss).reshape(-1,1))"
   ]
  },
  {
   "cell_type": "code",
   "execution_count": 66,
   "id": "64062882",
   "metadata": {},
   "outputs": [
    {
     "data": {
      "text/plain": [
       "[<matplotlib.lines.Line2D at 0x7f834406f250>]"
      ]
     },
     "execution_count": 66,
     "metadata": {},
     "output_type": "execute_result"
    },
    {
     "data": {
      "image/png": "[encoded data removed]",
      "text/plain": [
       "<Figure size 432x288 with 1 Axes>"
      ]
     },
     "metadata": {
      "needs_background": "light"
     },
     "output_type": "display_data"
    }
   ],
   "source": [
    "predictions = x@theta\n",
    "plt.scatter(x[:,1],y)\n",
    "plt.plot(x[:,1],predictions,\"orange\")"
   ]
  }
 ],
 "metadata": {
  "kernelspec": {
   "display_name": "Python 3",
   "language": "python",
   "name": "python3"
  },
  "language_info": {
   "codemirror_mode": {
    "name": "ipython",
    "version": 3
   },
   "file_extension": ".py",
   "mimetype": "text/x-python",
   "name": "python",
   "nbconvert_exporter": "python",
   "pygments_lexer": "ipython3",
   "version": "3.9.5"
  }
 },
 "nbformat": 4,
 "nbformat_minor": 5
}
