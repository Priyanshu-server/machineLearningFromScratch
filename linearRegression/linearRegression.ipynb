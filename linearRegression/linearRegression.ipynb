{
 "cells": [
  {
   "cell_type": "code",
   "execution_count": 2,
   "id": "d2f15ffc",
   "metadata": {},
   "outputs": [],
   "source": [
    "import pandas as pd\n",
    "import numpy as np\n",
    "import matplotlib.pyplot as plt\n",
    "%matplotlib inline"
   ]
  },
  {
   "cell_type": "code",
   "execution_count": 3,
   "id": "4a330620",
   "metadata": {},
   "outputs": [],
   "source": [
    "def normalize(data):\n",
    "    for i in range(0,data.shape[1]-1):\n",
    "        data[:,i] = ((data[:,i]-np.mean(data[:,i]))/np.std(data[:,i]))\n",
    "    return data\n",
    "\n",
    "def load_dataset(path):\n",
    "    df = pd.read_csv(path,sep = \",\")\n",
    "    data  = np.array(df,dtype = float)\n",
    "    data = normalize(data)\n",
    "    return data[:,:2],data[:,2:]"
   ]
  },
  {
   "cell_type": "code",
   "execution_count": 4,
   "id": "b8a2205c",
   "metadata": {},
   "outputs": [
    {
     "name": "stdout",
     "output_type": "stream",
     "text": [
      "X is : \n",
      " [[-0.50145768 -0.22866478]\n",
      " [ 0.50539755 -0.22866478]\n",
      " [-0.73303438 -1.54348727]\n",
      " [ 1.26053896  1.08615771]\n",
      " [-0.0169086   1.08615771]] \n",
      "\n",
      " Y is : \n",
      "[[329900.]\n",
      " [369000.]\n",
      " [232000.]\n",
      " [539900.]\n",
      " [299900.]]\n"
     ]
    }
   ],
   "source": [
    "x,y = load_dataset(\"data.csv\")\n",
    "print(\"X is : \\n {} \\n\\n Y is : \\n{}\".format(x[:5,:],y[:5]))"
   ]
  },
  {
   "cell_type": "code",
   "execution_count": 5,
   "id": "f569aec9",
   "metadata": {},
   "outputs": [],
   "source": [
    "h = lambda x,theta: x@theta\n",
    "\n",
    "cost_function = lambda x,y,theta: ((h(x,theta)-y).T@(h(x,theta)-y))/(2*x.shape[0])"
   ]
  },
  {
   "cell_type": "code",
   "execution_count": 6,
   "id": "ebf70a70",
   "metadata": {},
   "outputs": [],
   "source": [
    "def gradient_descent(x,y,theta,epochs,lr = 0.1):\n",
    "    m = y.shape[0]\n",
    "    \n",
    "    J = []\n",
    "    \n",
    "    for epoch in range(epochs):\n",
    "        h_x = h(x,theta)\n",
    "        step = (1/m)*(x.T@(h_x-y))\n",
    "        theta = theta - (lr*step)\n",
    "        J.append(cost_function(x,y,theta))\n",
    "    return J,theta"
   ]
  },
  {
   "cell_type": "code",
   "execution_count": 7,
   "id": "3c2be1e3",
   "metadata": {},
   "outputs": [],
   "source": [
    "def predict(x,y,epochs,lr=0.1):\n",
    "    x = np.concatenate((np.ones((x.shape[0],1)),x),axis=1)\n",
    "    theta = np.zeros((x.shape[1],1))\n",
    "    loss,theta = gradient_descent(x,y,theta,epochs,lr)\n",
    "    return x,loss,theta"
   ]
  },
  {
   "cell_type": "code",
   "execution_count": 8,
   "id": "039559d3",
   "metadata": {},
   "outputs": [],
   "source": [
    "x,loss,theta = predict(x,y,50,0.1)"
   ]
  },
  {
   "cell_type": "code",
   "execution_count": 9,
   "id": "d9bc4415",
   "metadata": {},
   "outputs": [
    {
     "data": {
      "text/plain": [
       "[array([[5.30106581e+10]]),\n",
       " array([[4.31787567e+10]]),\n",
       " array([[3.52874391e+10]]),\n",
       " array([[2.89446618e+10]]),\n",
       " array([[2.38397966e+10]]),\n",
       " array([[1.97261498e+10]]),\n",
       " array([[1.6407383e+10]]),\n",
       " array([[1.37269284e+10]]),\n",
       " array([[1.15597078e+10]]),\n",
       " array([[9.80563646e+09]]),\n",
       " array([[8.3845084e+09]]),\n",
       " array([[7.23196102e+09]]),\n",
       " array([[6.29628108e+09]]),\n",
       " array([[5.5358715e+09]]),\n",
       " array([[4.91723755e+09]]),\n",
       " array([[4.41338277e+09]]),\n",
       " array([[4.00252889e+09]]),\n",
       " array([[3.66709264e+09]]),\n",
       " array([[3.39286659e+09]]),\n",
       " array([[3.16836255e+09]]),\n",
       " array([[2.98428445e+09]]),\n",
       " array([[2.83310484e+09]]),\n",
       " array([[2.70872426e+09]]),\n",
       " array([[2.60619693e+09]]),\n",
       " array([[2.52150977e+09]]),\n",
       " array([[2.45140422e+09]]),\n",
       " array([[2.39323237e+09]]),\n",
       " array([[2.34484091e+09]]),\n",
       " array([[2.30447728e+09]]),\n",
       " array([[2.27071385e+09]]),\n",
       " array([[2.24238657e+09]]),\n",
       " array([[2.21854536e+09]]),\n",
       " array([[2.19841391e+09]]),\n",
       " array([[2.18135712e+09]]),\n",
       " array([[2.16685478e+09]]),\n",
       " array([[2.15448015e+09]]),\n",
       " array([[2.14388264e+09]]),\n",
       " array([[2.13477371e+09]]),\n",
       " array([[2.1269155e+09]]),\n",
       " array([[2.12011149e+09]]),\n",
       " array([[2.11419902e+09]]),\n",
       " array([[2.1090431e+09]]),\n",
       " array([[2.10453145e+09]]),\n",
       " array([[2.10057044e+09]]),\n",
       " array([[2.09708174e+09]]),\n",
       " array([[2.09399969e+09]]),\n",
       " array([[2.09126901e+09]]),\n",
       " array([[2.08884304e+09]]),\n",
       " array([[2.08668227e+09]]),\n",
       " array([[2.08475311e+09]])]"
      ]
     },
     "execution_count": 9,
     "metadata": {},
     "output_type": "execute_result"
    }
   ],
   "source": [
    "loss"
   ]
  },
  {
   "cell_type": "code",
   "execution_count": 110,
   "id": "419c3778",
   "metadata": {},
   "outputs": [
    {
     "data": {
      "text/plain": [
       "[<matplotlib.lines.Line2D at 0x7fcedecf1520>]"
      ]
     },
     "execution_count": 110,
     "metadata": {},
     "output_type": "execute_result"
    },
    {
     "data": {
      "image/png": "[encoded data removed]",
      "text/plain": [
       "<Figure size 432x288 with 1 Axes>"
      ]
     },
     "metadata": {
      "needs_background": "light"
     },
     "output_type": "display_data"
    }
   ],
   "source": [
    "plt.plot(np.array(loss).reshape(-1,1))"
   ]
  },
  {
   "cell_type": "code",
   "execution_count": 112,
   "id": "99bde790",
   "metadata": {},
   "outputs": [
    {
     "data": {
      "text/plain": [
       "[<matplotlib.lines.Line2D at 0x7fcede75c100>]"
      ]
     },
     "execution_count": 112,
     "metadata": {},
     "output_type": "execute_result"
    },
    {
     "data": {
      "image/png": "[encoded data removed]",
      "text/plain": [
       "<Figure size 432x288 with 1 Axes>"
      ]
     },
     "metadata": {
      "needs_background": "light"
     },
     "output_type": "display_data"
    }
   ],
   "source": [
    "predictions = x@theta\n",
    "plt.scatter(x[:,1],y)\n",
    "plt.plot(x[:,1],predictions,\"orange\")"
   ]
  }
 ],
 "metadata": {
  "kernelspec": {
   "display_name": "Python 3",
   "language": "python",
   "name": "python3"
  },
  "language_info": {
   "codemirror_mode": {
    "name": "ipython",
    "version": 3
   },
   "file_extension": ".py",
   "mimetype": "text/x-python",
   "name": "python",
   "nbconvert_exporter": "python",
   "pygments_lexer": "ipython3",
   "version": "3.9.5"
  }
 },
 "nbformat": 4,
 "nbformat_minor": 5
}
