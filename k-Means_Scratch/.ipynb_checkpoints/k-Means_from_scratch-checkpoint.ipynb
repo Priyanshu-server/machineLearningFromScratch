{
 "cells": [
  {
   "cell_type": "code",
   "execution_count": 307,
   "id": "6953d18e",
   "metadata": {},
   "outputs": [],
   "source": [
    "import numpy as np\n",
    "import matplotlib.pyplot as plt\n",
    "import pandas as pd\n",
    "import random\n",
    "from sklearn.datasets import make_blobs,make_moons\n",
    "from scipy.spatial.distance import cdist"
   ]
  },
  {
   "cell_type": "code",
   "execution_count": 329,
   "id": "5d469baf",
   "metadata": {},
   "outputs": [],
   "source": [
    "X,target = make_blobs()\n",
    "X = X.reshape(X.shape[0],X.shape[1],1)"
   ]
  },
  {
   "cell_type": "code",
   "execution_count": 330,
   "id": "ef4e3682",
   "metadata": {},
   "outputs": [
    {
     "data": {
      "text/plain": [
       "<matplotlib.collections.PathCollection at 0x7fc804446e20>"
      ]
     },
     "execution_count": 330,
     "metadata": {},
     "output_type": "execute_result"
    },
    {
     "data": {
      "image/png": "[encoded data removed]",
      "text/plain": [
       "<Figure size 432x288 with 1 Axes>"
      ]
     },
     "metadata": {
      "needs_background": "light"
     },
     "output_type": "display_data"
    }
   ],
   "source": [
    "plt.scatter(X[:,0],X[:,1],c = pd.Series(target).map({0:'red',1:'blue',2:'green'}))"
   ]
  },
  {
   "cell_type": "code",
   "execution_count": 331,
   "id": "a557e4d9",
   "metadata": {},
   "outputs": [],
   "source": [
    "X = pd.DataFrame(X.reshape(-1,X.shape[1]))\n",
    "X.columns = [\"ApplicantIncome\",\"LoanAmount\"]"
   ]
  },
  {
   "cell_type": "markdown",
   "id": "b0041e41",
   "metadata": {},
   "source": [
    "### testing with k = 2"
   ]
  },
  {
   "cell_type": "code",
   "execution_count": 332,
   "id": "f0944c81",
   "metadata": {},
   "outputs": [
    {
     "data": {
      "text/plain": [
       "<matplotlib.collections.PathCollection at 0x7fc80437f4c0>"
      ]
     },
     "execution_count": 332,
     "metadata": {},
     "output_type": "execute_result"
    },
    {
     "data": {
      "image/png": "[encoded data removed]",
      "text/plain": [
       "<Figure size 432x288 with 1 Axes>"
      ]
     },
     "metadata": {
      "needs_background": "light"
     },
     "output_type": "display_data"
    }
   ],
   "source": [
    "K = 2\n",
    "\n",
    "#will return a random number of samples\n",
    "Centroids = (X.sample(n=K))\n",
    "\n",
    "plt.scatter(X[\"ApplicantIncome\"],X[\"LoanAmount\"],c = 'black')\n",
    "\n",
    "plt.scatter(Centroids[\"ApplicantIncome\"],Centroids[\"LoanAmount\"],c = 'red')"
   ]
  },
  {
   "cell_type": "code",
   "execution_count": 333,
   "id": "35dfbb33",
   "metadata": {
    "scrolled": true
   },
   "outputs": [
    {
     "data": {
      "text/html": [
       "<div>\n",
       "<style scoped>\n",
       "    .dataframe tbody tr th:only-of-type {\n",
       "        vertical-align: middle;\n",
       "    }\n",
       "\n",
       "    .dataframe tbody tr th {\n",
       "        vertical-align: top;\n",
       "    }\n",
       "\n",
       "    .dataframe thead th {\n",
       "        text-align: right;\n",
       "    }\n",
       "</style>\n",
       "<table border=\"1\" class=\"dataframe\">\n",
       "  <thead>\n",
       "    <tr style=\"text-align: right;\">\n",
       "      <th></th>\n",
       "      <th>ApplicantIncome</th>\n",
       "      <th>LoanAmount</th>\n",
       "    </tr>\n",
       "  </thead>\n",
       "  <tbody>\n",
       "    <tr>\n",
       "      <th>70</th>\n",
       "      <td>-6.842221</td>\n",
       "      <td>1.320134</td>\n",
       "    </tr>\n",
       "    <tr>\n",
       "      <th>0</th>\n",
       "      <td>-1.120887</td>\n",
       "      <td>2.162953</td>\n",
       "    </tr>\n",
       "  </tbody>\n",
       "</table>\n",
       "</div>"
      ],
      "text/plain": [
       "    ApplicantIncome  LoanAmount\n",
       "70        -6.842221    1.320134\n",
       "0         -1.120887    2.162953"
      ]
     },
     "execution_count": 333,
     "metadata": {},
     "output_type": "execute_result"
    }
   ],
   "source": [
    "Centroids"
   ]
  },
  {
   "cell_type": "markdown",
   "id": "9324cf81",
   "metadata": {},
   "source": [
    "##  K-means algorithm "
   ]
  },
  {
   "cell_type": "code",
   "execution_count": 343,
   "id": "6192c768",
   "metadata": {},
   "outputs": [],
   "source": [
    "def kMeans(X,Centroids):\n",
    "    j = 0\n",
    "    diff = 1\n",
    "    while (diff != 0):\n",
    "        C = []\n",
    "        for i1,row1 in X.iterrows():\n",
    "            min_len = float('inf')\n",
    "            pos = 0\n",
    "            i = 1\n",
    "            for i2,row2 in Centroids.iterrows():\n",
    "                d1 = (row2[\"ApplicantIncome\"]-row1[\"ApplicantIncome\"])**2\n",
    "                d2 = (row2[\"LoanAmount\"]-row1[\"LoanAmount\"])**2\n",
    "                d = np.sqrt(d1+d2)\n",
    "                if d < min_len:\n",
    "                    min_len = d\n",
    "                    pos = i\n",
    "                i += 1\n",
    "            C.append(pos)\n",
    "        X['Cluster'] = C\n",
    "\n",
    "        Centroids_new = X.groupby([\"Cluster\"]).mean()[[\"LoanAmount\",\"ApplicantIncome\"]]\n",
    "\n",
    "        if j == 0:\n",
    "            j += 1\n",
    "        else:\n",
    "            diff = (Centroids_new['LoanAmount'] - Centroids['LoanAmount']).sum() + (Centroids_new['ApplicantIncome'] - Centroids['ApplicantIncome']).sum()\n",
    "        Centroids = X.groupby([\"Cluster\"]).mean()[[\"LoanAmount\",\"ApplicantIncome\"]]\n",
    "    return Centroids"
   ]
  },
  {
   "cell_type": "markdown",
   "id": "a817fe49",
   "metadata": {},
   "source": [
    "### Elbow curve fitting\n",
    "#### (Use to find best value for k)"
   ]
  },
  {
   "cell_type": "code",
   "execution_count": 344,
   "id": "5be05558",
   "metadata": {},
   "outputs": [],
   "source": [
    "def elbow_dist(X,Centroids):\n",
    "    dist = []\n",
    "    for i,row in X.iterrows():\n",
    "        val = row['Cluster']\n",
    "        cenT = Centroids.iloc[int(val)-1]\n",
    "        d1 = (row['LoanAmount'] - cenT['LoanAmount'])**2\n",
    "        d2 = (row['ApplicantIncome']- cenT['ApplicantIncome'])**2\n",
    "        d = np.sqrt(d1+d2)\n",
    "        dist.append(d)\n",
    "    return dist"
   ]
  },
  {
   "cell_type": "code",
   "execution_count": 350,
   "id": "6de9314c",
   "metadata": {},
   "outputs": [],
   "source": [
    "elbow_curve_dist = []\n",
    "for i in range(20):\n",
    "    Centroids = X.sample(n = i)\n",
    "    Centroids = kMeans(X,Centroids)\n",
    "    dist = elbow_dist(X,Centroids)\n",
    "    elbow_curve_dist.append(sum(dist))"
   ]
  },
  {
   "cell_type": "code",
   "execution_count": 351,
   "id": "86f5075d",
   "metadata": {},
   "outputs": [
    {
     "data": {
      "text/plain": [
       "[<matplotlib.lines.Line2D at 0x7fc80403b5e0>]"
      ]
     },
     "execution_count": 351,
     "metadata": {},
     "output_type": "execute_result"
    },
    {
     "data": {
      "image/png": "[encoded data removed]",
      "text/plain": [
       "<Figure size 432x288 with 1 Axes>"
      ]
     },
     "metadata": {
      "needs_background": "light"
     },
     "output_type": "display_data"
    }
   ],
   "source": [
    "plt.plot(elbow_curve_dist)"
   ]
  },
  {
   "cell_type": "code",
   "execution_count": 341,
   "id": "28c0dc6b",
   "metadata": {
    "scrolled": true
   },
   "outputs": [
    {
     "data": {
      "text/plain": [
       "<matplotlib.collections.PathCollection at 0x7fc804197f10>"
      ]
     },
     "execution_count": 341,
     "metadata": {},
     "output_type": "execute_result"
    },
    {
     "data": {
      "image/png": "[encoded data removed]",
      "text/plain": [
       "<Figure size 432x288 with 1 Axes>"
      ]
     },
     "metadata": {
      "needs_background": "light"
     },
     "output_type": "display_data"
    }
   ],
   "source": [
    "Centroids = X.sample(n = 3)\n",
    "Centroids = kMeans(X,Centroids)\n",
    "plt.scatter(X[\"ApplicantIncome\"],X[\"LoanAmount\"],c=X['Cluster'].map({1:'blue',2:'green',3:'cyan'}))\n",
    "plt.scatter(Centroids[\"ApplicantIncome\"],Centroids[\"LoanAmount\"],c = \"red\")"
   ]
  },
  {
   "cell_type": "markdown",
   "id": "15ac422a",
   "metadata": {},
   "source": [
    "### You can use this also "
   ]
  },
  {
   "cell_type": "markdown",
   "id": "bbb45a15",
   "metadata": {},
   "source": [
    "#For also calcualting the distances\n",
    "\n",
    "j = 0\n",
    "diff = 1\n",
    "while (diff != 0):\n",
    "    \n",
    "    i = 1\n",
    "    for i1,row1 in Centroids.iterrows():\n",
    "        lengths = []\n",
    "        for i2,row2 in X.iterrows():\n",
    "            d1 = (row1[\"ApplicantIncome\"]-row2[\"ApplicantIncome\"])**2\n",
    "            d2 = (row1[\"LoanAmount\"]-row2[\"LoanAmount\"])**2\n",
    "            d = d1+d2\n",
    "            lengths.append(d)\n",
    "        X[i] = lengths\n",
    "        i+=1\n",
    "\n",
    "    C = []\n",
    "    for i1,row in X.iterrows():\n",
    "        min_dist = row[1]\n",
    "        pos = 1\n",
    "        for i in range(K):\n",
    "            if row[i+1]<min_dist:\n",
    "                min_dist = row[i+1]\n",
    "                pos = i+1\n",
    "        C.append(pos)\n",
    "    X['Cluster'] = C\n",
    "    #Calculating new Clusters\n",
    "    \n",
    "    Centroids_new = X.groupby([\"Cluster\"]).mean()[[\"LoanAmount\",\"ApplicantIncome\"]]\n",
    "\n",
    "    if j == 0:\n",
    "        j += 1\n",
    "    else:\n",
    "        diff = (Centroids_new['LoanAmount'] - Centroids['LoanAmount']).sum() + (Centroids_new['ApplicantIncome'] - Centroids['ApplicantIncome']).sum()\n",
    "        print(diff)\n",
    "    Centroids = X.groupby([\"Cluster\"]).mean()[[\"LoanAmount\",\"ApplicantIncome\"]]"
   ]
  }
 ],
 "metadata": {
  "kernelspec": {
   "display_name": "Python 3",
   "language": "python",
   "name": "python3"
  },
  "language_info": {
   "codemirror_mode": {
    "name": "ipython",
    "version": 3
   },
   "file_extension": ".py",
   "mimetype": "text/x-python",
   "name": "python",
   "nbconvert_exporter": "python",
   "pygments_lexer": "ipython3",
   "version": "3.9.5"
  }
 },
 "nbformat": 4,
 "nbformat_minor": 5
}
