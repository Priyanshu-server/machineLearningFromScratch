{
 "cells": [
  {
   "cell_type": "code",
   "execution_count": 1,
   "id": "088beaaf",
   "metadata": {},
   "outputs": [],
   "source": [
    "import numpy as np"
   ]
  },
  {
   "cell_type": "code",
   "execution_count": 2,
   "id": "cf57a321",
   "metadata": {},
   "outputs": [],
   "source": [
    "training_data = [\n",
    "    ['Green', 3, 'Apple'],\n",
    "    ['Yellow', 3, 'Apple'],\n",
    "    ['Red', 1, 'Grape'],\n",
    "    ['Red', 1, 'Grape'],\n",
    "    ['Yellow', 3, 'Lemon'],\n",
    "]"
   ]
  },
  {
   "cell_type": "code",
   "execution_count": 3,
   "id": "85f9012f",
   "metadata": {},
   "outputs": [],
   "source": [
    "header = [\"color\",'Diameter','Fruit']"
   ]
  },
  {
   "cell_type": "code",
   "execution_count": 4,
   "id": "951ba261",
   "metadata": {},
   "outputs": [
    {
     "data": {
      "text/plain": [
       "{'Green', 'Red', 'Yellow'}"
      ]
     },
     "execution_count": 4,
     "metadata": {},
     "output_type": "execute_result"
    }
   ],
   "source": [
    "def unique_vals(data,column):\n",
    "    return set([row[column] for row in data])\n",
    "unique_vals(training_data,0)"
   ]
  },
  {
   "cell_type": "code",
   "execution_count": 5,
   "id": "cc09d520",
   "metadata": {},
   "outputs": [
    {
     "data": {
      "text/plain": [
       "{'Apple': 2, 'Grape': 2, 'Lemon': 1}"
      ]
     },
     "execution_count": 5,
     "metadata": {},
     "output_type": "execute_result"
    }
   ],
   "source": [
    "def Counter(data):\n",
    "    counts = dict()\n",
    "    for row in data:\n",
    "        if row[-1] in counts:\n",
    "            counts[row[-1]] += 1\n",
    "        else:\n",
    "            counts[row[-1]] = 1\n",
    "    return counts\n",
    "Counter(training_data)"
   ]
  },
  {
   "cell_type": "code",
   "execution_count": 6,
   "id": "2fed135b",
   "metadata": {},
   "outputs": [],
   "source": [
    "def is_numeric(value):\n",
    "    return isinstance(value,int) or isinstance(value,float)"
   ]
  },
  {
   "cell_type": "code",
   "execution_count": 7,
   "id": "a7ecb1e3",
   "metadata": {},
   "outputs": [],
   "source": [
    "class Question:\n",
    "    def __init__(self,column,value):\n",
    "        self.column = column\n",
    "        self.value = value\n",
    "        \n",
    "    def match(self,example):\n",
    "        val = example[self.column]\n",
    "        if is_numeric(val):\n",
    "            return val>= self.value\n",
    "        else:\n",
    "            return val == self.value\n",
    "    def __repr__(self):\n",
    "        condition = \"==\"\n",
    "        if is_numeric(self.value):\n",
    "            condition = \">=\"\n",
    "        return \"Is {} {} {}\".format(header[self.column],condition,self.value)"
   ]
  },
  {
   "cell_type": "code",
   "execution_count": 8,
   "id": "0b5c0887",
   "metadata": {},
   "outputs": [
    {
     "name": "stdout",
     "output_type": "stream",
     "text": [
      "Is color == Red\n"
     ]
    },
    {
     "data": {
      "text/plain": [
       "True"
      ]
     },
     "execution_count": 8,
     "metadata": {},
     "output_type": "execute_result"
    }
   ],
   "source": [
    "q = Question(0,'Red')\n",
    "print(q)\n",
    "q.match(['Red',3,'Apple'])"
   ]
  },
  {
   "cell_type": "code",
   "execution_count": 9,
   "id": "38963e5b",
   "metadata": {},
   "outputs": [],
   "source": [
    "def partition(dataset,question):\n",
    "    left_rows,right_rows = [],[]\n",
    "    for row in dataset:\n",
    "        if question.match(row):\n",
    "            left_rows.append(row)\n",
    "        else:\n",
    "            right_rows.append(row)\n",
    "    return (left_rows,right_rows)"
   ]
  },
  {
   "cell_type": "code",
   "execution_count": 10,
   "id": "3f9dbbf4",
   "metadata": {},
   "outputs": [
    {
     "data": {
      "text/plain": [
       "([['Red', 1, 'Grape'], ['Red', 1, 'Grape']],\n",
       " [['Green', 3, 'Apple'], ['Yellow', 3, 'Apple'], ['Yellow', 3, 'Lemon']])"
      ]
     },
     "execution_count": 10,
     "metadata": {},
     "output_type": "execute_result"
    }
   ],
   "source": [
    "partition(training_data,q)"
   ]
  },
  {
   "cell_type": "code",
   "execution_count": 11,
   "id": "5aa99c4c",
   "metadata": {
    "scrolled": true
   },
   "outputs": [
    {
     "data": {
      "text/plain": [
       "0.6399999999999999"
      ]
     },
     "execution_count": 11,
     "metadata": {},
     "output_type": "execute_result"
    }
   ],
   "source": [
    "def gini(data):\n",
    "    counts = Counter(data)\n",
    "    impurity = 1\n",
    "    for val in counts:\n",
    "        prob_of_val = counts[val] / (len(data))\n",
    "        impurity -= prob_of_val**2\n",
    "    return impurity\n",
    "# Impurity of training_data\n",
    "gini(training_data)"
   ]
  },
  {
   "cell_type": "code",
   "execution_count": 12,
   "id": "8d2567cc",
   "metadata": {},
   "outputs": [],
   "source": [
    "def infoGain(left,right,rootGini):\n",
    "    p = len(left) / (len(left)+len(right))\n",
    "    return rootGini - (p*gini(left) + (1-p)*gini(right))"
   ]
  },
  {
   "cell_type": "code",
   "execution_count": 15,
   "id": "3fca88ad",
   "metadata": {},
   "outputs": [
    {
     "data": {
      "text/plain": [
       "0.37333333333333324"
      ]
     },
     "execution_count": 15,
     "metadata": {},
     "output_type": "execute_result"
    }
   ],
   "source": [
    "left,right = partition(training_data,q)\n",
    "infoGain(left,right,gini(training_data))"
   ]
  },
  {
   "cell_type": "code",
   "execution_count": 20,
   "id": "30f5a7e0",
   "metadata": {},
   "outputs": [],
   "source": [
    "def find_best_split(data):\n",
    "    best_gain = 0\n",
    "    best_question = None\n",
    "    rootGini = gini(data)\n",
    "    n_features = len(data[0])-1\n",
    "    \n",
    "    for col in range(n_features):\n",
    "        values = set([row[col] for row in data])\n",
    "        for val in values:\n",
    "            question = Question(col,val)\n",
    "            true_rows,false_rows = partition(data,question)\n",
    "            \n",
    "            if len(true_rows) == 0 or len(false_rows) == 0:\n",
    "                continue\n",
    "            gain = infoGain(true_rows,false_rows,rootGini)\n",
    "            if gain >= best_gain:\n",
    "                best_gain, best_question = gain,question\n",
    "    return best_gain,best_question"
   ]
  },
  {
   "cell_type": "code",
   "execution_count": 21,
   "id": "b4055a3e",
   "metadata": {},
   "outputs": [
    {
     "data": {
      "text/plain": [
       "(0.37333333333333324, Is Diameter >= 3)"
      ]
     },
     "execution_count": 21,
     "metadata": {},
     "output_type": "execute_result"
    }
   ],
   "source": [
    "find_best_split(data=training_data)"
   ]
  },
  {
   "cell_type": "code",
   "execution_count": 24,
   "id": "7d82af8f",
   "metadata": {},
   "outputs": [],
   "source": [
    "class Leaf:\n",
    "    def __init__(self,rows):\n",
    "        self.prediction = Counter(rows)"
   ]
  },
  {
   "cell_type": "code",
   "execution_count": 73,
   "id": "5eb27122",
   "metadata": {},
   "outputs": [],
   "source": [
    "class decisionNode:\n",
    "    def __init__(self,question,true_branch,false_branch):\n",
    "        self.question = question\n",
    "        self.true_branch = true_branch\n",
    "        self.false_branch = false_branch"
   ]
  },
  {
   "cell_type": "code",
   "execution_count": 92,
   "id": "01e19dc8",
   "metadata": {},
   "outputs": [],
   "source": [
    "def buildTree(data):\n",
    "    gain,question = find_best_split(data)\n",
    "    \n",
    "    if gain == 0:\n",
    "        return Leaf(data)\n",
    "    \n",
    "    true_rows,false_rows = partition(data,question)\n",
    "    true_branch = buildTree(true_rows)\n",
    "    false_branch = buildTree(false_rows)\n",
    "    return decisionNode(question,true_branch,false_branch)"
   ]
  },
  {
   "cell_type": "code",
   "execution_count": 93,
   "id": "9b74a271",
   "metadata": {},
   "outputs": [],
   "source": [
    "def print_tree(node,spacing = \"\"):\n",
    "    if isinstance(node,Leaf):\n",
    "        print(spacing + \"Predict\",node.prediction)\n",
    "        return \n",
    "    print(spacing+str(node.question))\n",
    "    \n",
    "    print(spacing+'--> True : ')\n",
    "    print_tree(node.true_branch,spacing + \"  \")\n",
    "    \n",
    "    print(spacing + '--> False : ')\n",
    "    print_tree(node.false_branch, spacing + \" \")\n",
    "    "
   ]
  },
  {
   "cell_type": "code",
   "execution_count": 94,
   "id": "7aac72ff",
   "metadata": {},
   "outputs": [],
   "source": [
    "my_tree = buildTree(training_data)"
   ]
  },
  {
   "cell_type": "code",
   "execution_count": 91,
   "id": "f1a336af",
   "metadata": {},
   "outputs": [
    {
     "name": "stdout",
     "output_type": "stream",
     "text": [
      "Is Diameter >= 3\n",
      "--> True : \n",
      "  Is color == Yellow\n",
      "  --> True : \n",
      "    Predict {'Apple': 1, 'Lemon': 1}\n",
      "  --> False : \n",
      "   Predict {'Apple': 1}\n",
      "--> False : \n",
      " Predict {'Grape': 2}\n"
     ]
    }
   ],
   "source": [
    "print_tree(my_tree)"
   ]
  },
  {
   "cell_type": "code",
   "execution_count": 95,
   "id": "2b9a11f9",
   "metadata": {},
   "outputs": [],
   "source": [
    "def classify(row,node):\n",
    "    if isinstance(node,Leaf):\n",
    "        return node.prediction\n",
    "    if node.question.match(row):\n",
    "        return classify(row,node.true_branch)\n",
    "    else:\n",
    "        return classify(row,node.false_branch)"
   ]
  },
  {
   "cell_type": "code",
   "execution_count": 98,
   "id": "8f7cd2a1",
   "metadata": {},
   "outputs": [
    {
     "data": {
      "text/plain": [
       "{'Apple': 1}"
      ]
     },
     "execution_count": 98,
     "metadata": {},
     "output_type": "execute_result"
    }
   ],
   "source": [
    "classify(['Yelow',3],my_tree)"
   ]
  }
 ],
 "metadata": {
  "kernelspec": {
   "display_name": "Python 3",
   "language": "python",
   "name": "python3"
  },
  "language_info": {
   "codemirror_mode": {
    "name": "ipython",
    "version": 3
   },
   "file_extension": ".py",
   "mimetype": "text/x-python",
   "name": "python",
   "nbconvert_exporter": "python",
   "pygments_lexer": "ipython3",
   "version": "3.9.5"
  }
 },
 "nbformat": 4,
 "nbformat_minor": 5
}
